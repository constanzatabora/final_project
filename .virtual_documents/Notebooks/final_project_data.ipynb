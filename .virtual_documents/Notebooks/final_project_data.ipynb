import pandas as pd
import numpy as np


df_merged = pd.read_csv("/Users/cmeneses/Desktop/Documentos/Ironhack/Bootcamp/final_project/Data/Clean/final_project_data_merge_clean.csv")
df_merged



