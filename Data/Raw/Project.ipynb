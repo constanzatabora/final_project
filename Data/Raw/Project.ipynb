{
 "cells": [
  {
   "cell_type": "markdown",
   "id": "08e2c751-34ac-45d9-8e85-474d0ef2aedf",
   "metadata": {},
   "source": [
    "### Importar Librerias"
   ]
  },
  {
   "cell_type": "code",
   "execution_count": 1,
   "id": "6f75924e-b39a-42f4-ad53-4ba7c719d3d6",
   "metadata": {},
   "outputs": [],
   "source": [
    "import os\n",
    "import pandas as pd\n",
    "import numpy as np\n",
    "#from prophet import Prophet\n",
    "#from prophet.plot import plot_plotly, plot_components_plotly\n",
    "#from prophet.plot import add_changepoints_to_plot, plot_cross_validation_metric\n",
    "#from sklearn.metrics import mean_absolute_error, mean_absolute_percentage_error\n",
    "#from prophet.diagnostics import cross_validation, performance_metrics\n",
    "import matplotlib.pyplot as plt"
   ]
  },
  {
   "cell_type": "markdown",
   "id": "851d8775-96e2-4cec-a796-dacd3a29726c",
   "metadata": {},
   "source": [
    "### Leer Directorio de Carpeta"
   ]
  },
  {
   "cell_type": "code",
   "execution_count": 4,
   "id": "4daed4fa-7803-442d-be08-3bf0cfa25341",
   "metadata": {},
   "outputs": [
    {
     "data": {
      "text/plain": [
       "['report_ventas_sept24.csv',\n",
       " '.DS_Store',\n",
       " 'Project.ipynb',\n",
       " 'report_ventas_nov24.csv',\n",
       " 'report_ventas_oct24.csv',\n",
       " 'report_ventas_ago24.csv',\n",
       " '.ipynb_checkpoints',\n",
       " 'report_ventas_jun24.csv',\n",
       " 'report_ventas_jul24.csv']"
      ]
     },
     "execution_count": 4,
     "metadata": {},
     "output_type": "execute_result"
    }
   ],
   "source": [
    "path = os.getcwd()\n",
    "files = os.listdir(\"/Users/cmeneses/Desktop/Documentos/Ironhack/Bootcamp/final_project/Data/Raw\")\n",
    "files"
   ]
  },
  {
   "cell_type": "markdown",
   "id": "0b266a53-c564-43a8-9a5f-a690f2218b0c",
   "metadata": {},
   "source": [
    "### Buscar archivos CSV en Directorio"
   ]
  },
  {
   "cell_type": "code",
   "execution_count": 7,
   "id": "26fdeefd-0534-4b84-b7c9-f280089608bb",
   "metadata": {},
   "outputs": [
    {
     "data": {
      "text/plain": [
       "['report_ventas_ago24.csv',\n",
       " 'report_ventas_jul24.csv',\n",
       " 'report_ventas_jun24.csv',\n",
       " 'report_ventas_nov24.csv',\n",
       " 'report_ventas_oct24.csv',\n",
       " 'report_ventas_sept24.csv']"
      ]
     },
     "execution_count": 7,
     "metadata": {},
     "output_type": "execute_result"
    }
   ],
   "source": [
    "files_csv = [f for f in files if f[-3:] == 'csv']\n",
    "files_csv.sort()\n",
    "files_csv"
   ]
  },
  {
   "cell_type": "markdown",
   "id": "f675ef4a-8597-40f7-81c4-52839a5400a6",
   "metadata": {},
   "source": [
    "### Crear DataFrame Vacio"
   ]
  },
  {
   "cell_type": "code",
   "execution_count": 10,
   "id": "e346f9fd-e4f2-4d6e-a53b-19a4a1566ae8",
   "metadata": {},
   "outputs": [],
   "source": [
    "df = pd.DataFrame()"
   ]
  },
  {
   "cell_type": "markdown",
   "id": "eb2ae053-fe57-4519-8073-fbc967dd3e93",
   "metadata": {},
   "source": [
    "### Iterar por los archivos CSV; Pegarlos en el DataFrame y Formatear Fecha"
   ]
  },
  {
   "cell_type": "code",
   "execution_count": 17,
   "id": "ad3e62d2-be44-4dbb-9057-8994edda4801",
   "metadata": {},
   "outputs": [
    {
     "name": "stderr",
     "output_type": "stream",
     "text": [
      "/var/folders/pr/_2b__hxx28x47_ngnblr_zpc0000gp/T/ipykernel_9352/3728303545.py:2: UserWarning: Could not infer format, so each element will be parsed individually, falling back to `dateutil`. To ensure parsing is consistent and as-expected, please specify a format.\n",
      "  data = pd.read_csv(f, skiprows=3, parse_dates=[\"Fecha Fin Transaccion\"], dayfirst=True, encoding='unicode_escape')\n"
     ]
    },
    {
     "ename": "AttributeError",
     "evalue": "'DataFrame' object has no attribute 'append'",
     "output_type": "error",
     "traceback": [
      "\u001b[0;31m---------------------------------------------------------------------------\u001b[0m",
      "\u001b[0;31mAttributeError\u001b[0m                            Traceback (most recent call last)",
      "\u001b[0;32m/var/folders/pr/_2b__hxx28x47_ngnblr_zpc0000gp/T/ipykernel_9352/3728303545.py\u001b[0m in \u001b[0;36m?\u001b[0;34m()\u001b[0m\n\u001b[1;32m      1\u001b[0m \u001b[0;32mfor\u001b[0m \u001b[0mf\u001b[0m \u001b[0;32min\u001b[0m \u001b[0mfiles_csv\u001b[0m\u001b[0;34m:\u001b[0m\u001b[0;34m\u001b[0m\u001b[0;34m\u001b[0m\u001b[0m\n\u001b[1;32m      2\u001b[0m     \u001b[0mdata\u001b[0m \u001b[0;34m=\u001b[0m \u001b[0mpd\u001b[0m\u001b[0;34m.\u001b[0m\u001b[0mread_csv\u001b[0m\u001b[0;34m(\u001b[0m\u001b[0mf\u001b[0m\u001b[0;34m,\u001b[0m \u001b[0mskiprows\u001b[0m\u001b[0;34m=\u001b[0m\u001b[0;36m3\u001b[0m\u001b[0;34m,\u001b[0m \u001b[0mparse_dates\u001b[0m\u001b[0;34m=\u001b[0m\u001b[0;34m[\u001b[0m\u001b[0;34m\"Fecha Fin Transaccion\"\u001b[0m\u001b[0;34m]\u001b[0m\u001b[0;34m,\u001b[0m \u001b[0mdayfirst\u001b[0m\u001b[0;34m=\u001b[0m\u001b[0;32mTrue\u001b[0m\u001b[0;34m,\u001b[0m \u001b[0mencoding\u001b[0m\u001b[0;34m=\u001b[0m\u001b[0;34m'unicode_escape'\u001b[0m\u001b[0;34m)\u001b[0m\u001b[0;34m\u001b[0m\u001b[0;34m\u001b[0m\u001b[0m\n\u001b[0;32m----> 3\u001b[0;31m     \u001b[0mdf\u001b[0m \u001b[0;34m=\u001b[0m \u001b[0mdf\u001b[0m\u001b[0;34m.\u001b[0m\u001b[0mappend\u001b[0m\u001b[0;34m(\u001b[0m\u001b[0mdata\u001b[0m\u001b[0;34m)\u001b[0m\u001b[0;34m\u001b[0m\u001b[0;34m\u001b[0m\u001b[0m\n\u001b[0m",
      "\u001b[0;32m/opt/anaconda3/lib/python3.12/site-packages/pandas/core/generic.py\u001b[0m in \u001b[0;36m?\u001b[0;34m(self, name)\u001b[0m\n\u001b[1;32m   6295\u001b[0m             \u001b[0;32mand\u001b[0m \u001b[0mname\u001b[0m \u001b[0;32mnot\u001b[0m \u001b[0;32min\u001b[0m \u001b[0mself\u001b[0m\u001b[0;34m.\u001b[0m\u001b[0m_accessors\u001b[0m\u001b[0;34m\u001b[0m\u001b[0;34m\u001b[0m\u001b[0m\n\u001b[1;32m   6296\u001b[0m             \u001b[0;32mand\u001b[0m \u001b[0mself\u001b[0m\u001b[0;34m.\u001b[0m\u001b[0m_info_axis\u001b[0m\u001b[0;34m.\u001b[0m\u001b[0m_can_hold_identifiers_and_holds_name\u001b[0m\u001b[0;34m(\u001b[0m\u001b[0mname\u001b[0m\u001b[0;34m)\u001b[0m\u001b[0;34m\u001b[0m\u001b[0;34m\u001b[0m\u001b[0m\n\u001b[1;32m   6297\u001b[0m         \u001b[0;34m)\u001b[0m\u001b[0;34m:\u001b[0m\u001b[0;34m\u001b[0m\u001b[0;34m\u001b[0m\u001b[0m\n\u001b[1;32m   6298\u001b[0m             \u001b[0;32mreturn\u001b[0m \u001b[0mself\u001b[0m\u001b[0;34m[\u001b[0m\u001b[0mname\u001b[0m\u001b[0;34m]\u001b[0m\u001b[0;34m\u001b[0m\u001b[0;34m\u001b[0m\u001b[0m\n\u001b[0;32m-> 6299\u001b[0;31m         \u001b[0;32mreturn\u001b[0m \u001b[0mobject\u001b[0m\u001b[0;34m.\u001b[0m\u001b[0m__getattribute__\u001b[0m\u001b[0;34m(\u001b[0m\u001b[0mself\u001b[0m\u001b[0;34m,\u001b[0m \u001b[0mname\u001b[0m\u001b[0;34m)\u001b[0m\u001b[0;34m\u001b[0m\u001b[0;34m\u001b[0m\u001b[0m\n\u001b[0m",
      "\u001b[0;31mAttributeError\u001b[0m: 'DataFrame' object has no attribute 'append'"
     ]
    }
   ],
   "source": [
    "for f in files_csv:\n",
    "    data = pd.read_csv(f, skiprows=3, parse_dates=[\"Fecha Fin Transaccion\"], dayfirst=True, encoding='unicode_escape') \n",
    "    df = df.append(data)"
   ]
  },
  {
   "cell_type": "markdown",
   "id": "96b50f9c-6ee2-4acd-a72b-745f240a7eda",
   "metadata": {},
   "source": [
    "### Visualizar DataFrame"
   ]
  },
  {
   "cell_type": "code",
   "execution_count": null,
   "id": "77a4fbe8-d0a7-473b-984d-0d92576a6aa3",
   "metadata": {},
   "outputs": [],
   "source": [
    "df"
   ]
  },
  {
   "cell_type": "markdown",
   "id": "d0285f56-9f53-4902-b573-e88590e8847c",
   "metadata": {},
   "source": [
    "### Explorar Data"
   ]
  },
  {
   "cell_type": "code",
   "execution_count": null,
   "id": "65c2158b-e9bc-4bec-a74c-c5e9f96152a6",
   "metadata": {},
   "outputs": [],
   "source": [
    "df.info()"
   ]
  },
  {
   "cell_type": "markdown",
   "id": "e2e6e2bb-16ec-46e7-8d58-6fc5a5acda5c",
   "metadata": {},
   "source": [
    "### Agregar Columnas Year, Month y Week_Number a DataFrame"
   ]
  },
  {
   "cell_type": "code",
   "execution_count": null,
   "id": "24201139-4a8f-41f8-8963-9a0aa351ea19",
   "metadata": {},
   "outputs": [],
   "source": [
    "df['Year'] = df['Fecha Fin Transaccion'].dt.strftime('%G')\n",
    "df['Month'] = df['Fecha Fin Transaccion'].dt.strftime('%m')\n",
    "df['Week_Number'] = df['Fecha Fin Transaccion'].dt.strftime('%V')\n",
    "df"
   ]
  },
  {
   "cell_type": "markdown",
   "id": "5b4e2085-7f2c-4ca1-950d-fedbc675a051",
   "metadata": {},
   "source": [
    "### DF Describe"
   ]
  },
  {
   "cell_type": "code",
   "execution_count": null,
   "id": "5b50170f-8846-4448-95f4-21122d0c8808",
   "metadata": {},
   "outputs": [],
   "source": [
    "df.describe()"
   ]
  },
  {
   "cell_type": "markdown",
   "id": "81c2a90b-a65c-4de6-a7dd-69807747f927",
   "metadata": {},
   "source": [
    "### Categorias\n",
    "\n",
    "##### Tip: Recomiendo limpiar las categorias un poco para que puedas hacer analisis como Total Bebidas Alcoholicas, No Alcoholicas, Comida, Ventas por Eventos por Local, etc"
   ]
  },
  {
   "cell_type": "code",
   "execution_count": null,
   "id": "d139815b-b5f1-4853-839d-046a8b5048a7",
   "metadata": {
    "scrolled": true,
    "tags": []
   },
   "outputs": [],
   "source": [
    "df['Descripcion de la Categoria'].unique()"
   ]
  },
  {
   "cell_type": "markdown",
   "id": "ae08bda4-fc41-4460-a432-5a9d1a69a408",
   "metadata": {},
   "source": [
    "### Cantidad observaciones por local"
   ]
  },
  {
   "cell_type": "code",
   "execution_count": null,
   "id": "f769122b-3c4f-4aba-8af4-74aa1d85ad6a",
   "metadata": {},
   "outputs": [],
   "source": [
    "df[\"Nombre Local\"].value_counts()"
   ]
  },
  {
   "cell_type": "markdown",
   "id": "c25a2b5d-2806-4f99-a11d-ad79de0bbc5f",
   "metadata": {},
   "source": [
    "### Total de Facturas"
   ]
  },
  {
   "cell_type": "code",
   "execution_count": null,
   "id": "ace70c33-e412-4de1-b390-7ec7d2d72fe7",
   "metadata": {},
   "outputs": [],
   "source": [
    "df['ID Factura'].nunique()"
   ]
  },
  {
   "cell_type": "markdown",
   "id": "831df503-8317-4a9e-b7fe-8c36d4a3295b",
   "metadata": {},
   "source": [
    "### Total Facturas por Local"
   ]
  },
  {
   "cell_type": "code",
   "execution_count": null,
   "id": "6563a041-8cba-4490-ae6c-b1dd1d5f41fd",
   "metadata": {
    "tags": []
   },
   "outputs": [],
   "source": [
    "total_tickets_local = pd.pivot_table(df, values=['ID Factura'], index=['Nombre Local'], aggfunc=\"nunique\")\n",
    "\n",
    "total_tickets_local"
   ]
  },
  {
   "cell_type": "markdown",
   "id": "3288df8f-6bdd-4471-a1c9-efca66e3ba39",
   "metadata": {},
   "source": [
    "### Total Facturas Mensuales por Local"
   ]
  },
  {
   "cell_type": "code",
   "execution_count": null,
   "id": "b7fddc2f-e745-47cb-a213-e1e6be054b58",
   "metadata": {},
   "outputs": [],
   "source": [
    "total_tickets_mes_local = pd.pivot_table(df, values=['ID Factura'], index=['Nombre Local', 'Month'], aggfunc=\"nunique\")\n",
    "\n",
    "total_tickets_mes_local"
   ]
  },
  {
   "cell_type": "markdown",
   "id": "133fb687-0b95-45eb-a887-1fcf0cae6219",
   "metadata": {},
   "source": [
    "### Total Ventas Unidades y Impuestos / Local"
   ]
  },
  {
   "cell_type": "code",
   "execution_count": null,
   "id": "9dfdbbc7-7af0-4a1c-8ec8-e222ecbd8346",
   "metadata": {},
   "outputs": [],
   "source": [
    "total_ventas_local = pd.pivot_table(df, values=['Unidades Vendidas', 'Subtotal', 'Total', 'Impuestos'], index=['Nombre Local'], aggfunc=\"sum\")\n",
    "\n",
    "total_ventas_local"
   ]
  },
  {
   "cell_type": "markdown",
   "id": "3b5a260e-6724-46ee-b5f8-42df145dfdef",
   "metadata": {},
   "source": [
    "### Total Ventas Unidades y Impuestos por Mes / Local"
   ]
  },
  {
   "cell_type": "code",
   "execution_count": null,
   "id": "50c373a6-3556-4d04-be19-828c6381a3fe",
   "metadata": {},
   "outputs": [],
   "source": [
    "total_ventas_mes_local = pd.pivot_table(df, values=['Unidades Vendidas', 'Subtotal', 'Total', 'Impuestos'], index=['Nombre Local', 'Month'], aggfunc=\"sum\")\n",
    "\n",
    "total_ventas_mes_local"
   ]
  },
  {
   "cell_type": "markdown",
   "id": "a3b6bd65-2c89-463d-8299-80fb12a34c12",
   "metadata": {},
   "source": [
    "### Min Max Mean Precio de Unidades Vendidas por Categorias / Local"
   ]
  },
  {
   "cell_type": "code",
   "execution_count": null,
   "id": "ceae9b51-4a5e-44a3-8731-cb5ce65f610a",
   "metadata": {},
   "outputs": [],
   "source": [
    "total_ventas_local_categoria = pd.pivot_table(df, values=['Unidades Vendidas', 'Subtotal', 'Total', 'Impuestos', 'Precio'], index=['Nombre Local', 'Descripcion de la Categoria'], \n",
    "                                                  aggfunc={'Total': 'sum', 'Precio': ['min', 'mean', 'max'], 'Subtotal': 'sum', 'Unidades Vendidas': 'sum', 'Impuestos': 'sum'})\n",
    "\n",
    "total_ventas_local_categoria"
   ]
  },
  {
   "cell_type": "markdown",
   "id": "bce975fb-fd75-4efb-9317-550188ff904d",
   "metadata": {},
   "source": [
    "### Min Max Mean Precio de Unidades Vendidas por Categorias al Mes / Local"
   ]
  },
  {
   "cell_type": "code",
   "execution_count": null,
   "id": "43d54d83-574f-49eb-a1cb-5be723ecc9a2",
   "metadata": {
    "tags": []
   },
   "outputs": [],
   "source": [
    "total_ventas_mes_local_categoria = pd.pivot_table(df, values=['Unidades Vendidas', 'Subtotal', 'Total', 'Impuestos', 'Precio'], index=['Nombre Local', 'Month', 'Descripcion de la Categoria'], \n",
    "                                                  aggfunc={'Total': 'sum', 'Precio': ['min', 'mean', 'max'], 'Subtotal': 'sum', 'Unidades Vendidas': 'sum', 'Impuestos': 'sum'})\n",
    "\n",
    "total_ventas_mes_local_categoria"
   ]
  },
  {
   "cell_type": "code",
   "execution_count": null,
   "id": "bdb56faf-af5f-4366-a822-e66950a56f7c",
   "metadata": {},
   "outputs": [],
   "source": []
  },
  {
   "cell_type": "code",
   "execution_count": null,
   "id": "451b6d4b-c94a-43f8-9b11-81fc784d8769",
   "metadata": {},
   "outputs": [],
   "source": []
  }
 ],
 "metadata": {
  "kernelspec": {
   "display_name": "Python 3 (ipykernel)",
   "language": "python",
   "name": "python3"
  },
  "language_info": {
   "codemirror_mode": {
    "name": "ipython",
    "version": 3
   },
   "file_extension": ".py",
   "mimetype": "text/x-python",
   "name": "python",
   "nbconvert_exporter": "python",
   "pygments_lexer": "ipython3",
   "version": "3.12.2"
  }
 },
 "nbformat": 4,
 "nbformat_minor": 5
}
